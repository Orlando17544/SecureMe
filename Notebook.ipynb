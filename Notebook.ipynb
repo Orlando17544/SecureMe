{
 "cells": [
  {
   "cell_type": "code",
   "execution_count": 1,
   "id": "7c7422fd",
   "metadata": {},
   "outputs": [],
   "source": [
    "import pandas as pd"
   ]
  },
  {
   "cell_type": "code",
   "execution_count": 2,
   "id": "04f14e88",
   "metadata": {},
   "outputs": [],
   "source": [
    "df = pd.read_csv('administrativaActivos.csv')"
   ]
  },
  {
   "cell_type": "code",
   "execution_count": 3,
   "id": "dec4047f",
   "metadata": {
    "scrolled": true
   },
   "outputs": [
    {
     "data": {
      "text/html": [
       "<div>\n",
       "<style scoped>\n",
       "    .dataframe tbody tr th:only-of-type {\n",
       "        vertical-align: middle;\n",
       "    }\n",
       "\n",
       "    .dataframe tbody tr th {\n",
       "        vertical-align: top;\n",
       "    }\n",
       "\n",
       "    .dataframe thead th {\n",
       "        text-align: right;\n",
       "    }\n",
       "</style>\n",
       "<table border=\"1\" class=\"dataframe\">\n",
       "  <thead>\n",
       "    <tr style=\"text-align: right;\">\n",
       "      <th></th>\n",
       "      <th>Clave CT</th>\n",
       "      <th>Nombre CT</th>\n",
       "      <th>Clave Turno</th>\n",
       "      <th>Descripción Turno</th>\n",
       "      <th>Zona Escolar</th>\n",
       "      <th>Descripción Mpio.</th>\n",
       "      <th>Descripción Cat. Pob.</th>\n",
       "      <th>Longitud</th>\n",
       "      <th>Latitud</th>\n",
       "      <th>Docentes</th>\n",
       "      <th>Nivel</th>\n",
       "      <th>Modalidad</th>\n",
       "    </tr>\n",
       "  </thead>\n",
       "  <tbody>\n",
       "    <tr>\n",
       "      <th>0</th>\n",
       "      <td>11EDI0010W</td>\n",
       "      <td>CENTRO DE DESARROLLO INFANTIL GABRIELA MISTRAL</td>\n",
       "      <td>1</td>\n",
       "      <td>Matutino</td>\n",
       "      <td>888.0</td>\n",
       "      <td>Guanajuato</td>\n",
       "      <td>U Urbana</td>\n",
       "      <td>-101.258428</td>\n",
       "      <td>21.011431</td>\n",
       "      <td>5.0</td>\n",
       "      <td>INICIAL ESCOLARIZADO</td>\n",
       "      <td>CENDI Estatal</td>\n",
       "    </tr>\n",
       "    <tr>\n",
       "      <th>1</th>\n",
       "      <td>11EDI0020C</td>\n",
       "      <td>MARTHA CATALINA GARCIA OLIVARES</td>\n",
       "      <td>1</td>\n",
       "      <td>Matutino</td>\n",
       "      <td>888.0</td>\n",
       "      <td>León</td>\n",
       "      <td>U Urbana</td>\n",
       "      <td>-101.574590</td>\n",
       "      <td>21.098651</td>\n",
       "      <td>4.0</td>\n",
       "      <td>INICIAL ESCOLARIZADO</td>\n",
       "      <td>CENDI Estatal</td>\n",
       "    </tr>\n",
       "    <tr>\n",
       "      <th>2</th>\n",
       "      <td>11EDI0016Q</td>\n",
       "      <td>CENTRO DE DESARROLLO INFANTIL</td>\n",
       "      <td>1</td>\n",
       "      <td>Matutino</td>\n",
       "      <td>1.0</td>\n",
       "      <td>Apaseo el Alto</td>\n",
       "      <td>U Urbana</td>\n",
       "      <td>-100.620190</td>\n",
       "      <td>20.459970</td>\n",
       "      <td>5.0</td>\n",
       "      <td>INICIAL ESCOLARIZADO</td>\n",
       "      <td>CENDI Estatal</td>\n",
       "    </tr>\n",
       "    <tr>\n",
       "      <th>3</th>\n",
       "      <td>11EDI0018O</td>\n",
       "      <td>CENTRO DE DESARROLLO INFANTIL MARIA MONTESSORI</td>\n",
       "      <td>1</td>\n",
       "      <td>Matutino</td>\n",
       "      <td>1.0</td>\n",
       "      <td>Apaseo el Grande</td>\n",
       "      <td>U Urbana</td>\n",
       "      <td>-100.688310</td>\n",
       "      <td>20.545310</td>\n",
       "      <td>3.0</td>\n",
       "      <td>INICIAL ESCOLARIZADO</td>\n",
       "      <td>CENDI Estatal</td>\n",
       "    </tr>\n",
       "    <tr>\n",
       "      <th>4</th>\n",
       "      <td>11EDI0001O</td>\n",
       "      <td>CENTRO DE DESARROLLO INFANTIL DIF</td>\n",
       "      <td>1</td>\n",
       "      <td>Matutino</td>\n",
       "      <td>888.0</td>\n",
       "      <td>Acámbaro</td>\n",
       "      <td>U Urbana</td>\n",
       "      <td>-100.727904</td>\n",
       "      <td>20.022944</td>\n",
       "      <td>2.0</td>\n",
       "      <td>INICIAL ESCOLARIZADO</td>\n",
       "      <td>CENDI Estatal</td>\n",
       "    </tr>\n",
       "  </tbody>\n",
       "</table>\n",
       "</div>"
      ],
      "text/plain": [
       "     Clave CT                                       Nombre CT  Clave Turno  \\\n",
       "0  11EDI0010W  CENTRO DE DESARROLLO INFANTIL GABRIELA MISTRAL            1   \n",
       "1  11EDI0020C                 MARTHA CATALINA GARCIA OLIVARES            1   \n",
       "2  11EDI0016Q                   CENTRO DE DESARROLLO INFANTIL            1   \n",
       "3  11EDI0018O  CENTRO DE DESARROLLO INFANTIL MARIA MONTESSORI            1   \n",
       "4  11EDI0001O               CENTRO DE DESARROLLO INFANTIL DIF            1   \n",
       "\n",
       "  Descripción Turno  Zona Escolar Descripción Mpio. Descripción Cat. Pob.  \\\n",
       "0          Matutino         888.0        Guanajuato              U Urbana   \n",
       "1          Matutino         888.0              León              U Urbana   \n",
       "2          Matutino           1.0    Apaseo el Alto              U Urbana   \n",
       "3          Matutino           1.0  Apaseo el Grande              U Urbana   \n",
       "4          Matutino         888.0          Acámbaro              U Urbana   \n",
       "\n",
       "     Longitud    Latitud  Docentes                 Nivel      Modalidad  \n",
       "0 -101.258428  21.011431       5.0  INICIAL ESCOLARIZADO  CENDI Estatal  \n",
       "1 -101.574590  21.098651       4.0  INICIAL ESCOLARIZADO  CENDI Estatal  \n",
       "2 -100.620190  20.459970       5.0  INICIAL ESCOLARIZADO  CENDI Estatal  \n",
       "3 -100.688310  20.545310       3.0  INICIAL ESCOLARIZADO  CENDI Estatal  \n",
       "4 -100.727904  20.022944       2.0  INICIAL ESCOLARIZADO  CENDI Estatal  "
      ]
     },
     "execution_count": 3,
     "metadata": {},
     "output_type": "execute_result"
    }
   ],
   "source": [
    "df.head()"
   ]
  },
  {
   "cell_type": "code",
   "execution_count": 4,
   "id": "4dbb8579",
   "metadata": {},
   "outputs": [
    {
     "data": {
      "text/plain": [
       "14567"
      ]
     },
     "execution_count": 4,
     "metadata": {},
     "output_type": "execute_result"
    }
   ],
   "source": [
    "len(df.index)"
   ]
  },
  {
   "cell_type": "code",
   "execution_count": 5,
   "id": "729986dc",
   "metadata": {},
   "outputs": [],
   "source": [
    "isPublic = df[\"Clave CT\"].str.contains(\"^\\d{2}[^P]\")"
   ]
  },
  {
   "cell_type": "code",
   "execution_count": 6,
   "id": "b1276349",
   "metadata": {},
   "outputs": [],
   "source": [
    "df = df[isPublic]"
   ]
  },
  {
   "cell_type": "code",
   "execution_count": 7,
   "id": "fbe74358",
   "metadata": {},
   "outputs": [
    {
     "data": {
      "text/plain": [
       "12277"
      ]
     },
     "execution_count": 7,
     "metadata": {},
     "output_type": "execute_result"
    }
   ],
   "source": [
    "len(df.index)"
   ]
  },
  {
   "cell_type": "code",
   "execution_count": 8,
   "id": "c2d5c978",
   "metadata": {},
   "outputs": [],
   "source": [
    "df.drop(columns=[\"Clave CT\", \"Clave Turno\"], inplace=True)"
   ]
  },
  {
   "cell_type": "code",
   "execution_count": 9,
   "id": "27d78145",
   "metadata": {},
   "outputs": [
    {
     "data": {
      "text/html": [
       "<div>\n",
       "<style scoped>\n",
       "    .dataframe tbody tr th:only-of-type {\n",
       "        vertical-align: middle;\n",
       "    }\n",
       "\n",
       "    .dataframe tbody tr th {\n",
       "        vertical-align: top;\n",
       "    }\n",
       "\n",
       "    .dataframe thead th {\n",
       "        text-align: right;\n",
       "    }\n",
       "</style>\n",
       "<table border=\"1\" class=\"dataframe\">\n",
       "  <thead>\n",
       "    <tr style=\"text-align: right;\">\n",
       "      <th></th>\n",
       "      <th>Nombre CT</th>\n",
       "      <th>Descripción Turno</th>\n",
       "      <th>Zona Escolar</th>\n",
       "      <th>Descripción Mpio.</th>\n",
       "      <th>Descripción Cat. Pob.</th>\n",
       "      <th>Longitud</th>\n",
       "      <th>Latitud</th>\n",
       "      <th>Docentes</th>\n",
       "      <th>Nivel</th>\n",
       "      <th>Modalidad</th>\n",
       "    </tr>\n",
       "  </thead>\n",
       "  <tbody>\n",
       "    <tr>\n",
       "      <th>0</th>\n",
       "      <td>CENTRO DE DESARROLLO INFANTIL GABRIELA MISTRAL</td>\n",
       "      <td>Matutino</td>\n",
       "      <td>888.0</td>\n",
       "      <td>Guanajuato</td>\n",
       "      <td>U Urbana</td>\n",
       "      <td>-101.258428</td>\n",
       "      <td>21.011431</td>\n",
       "      <td>5.0</td>\n",
       "      <td>INICIAL ESCOLARIZADO</td>\n",
       "      <td>CENDI Estatal</td>\n",
       "    </tr>\n",
       "    <tr>\n",
       "      <th>1</th>\n",
       "      <td>MARTHA CATALINA GARCIA OLIVARES</td>\n",
       "      <td>Matutino</td>\n",
       "      <td>888.0</td>\n",
       "      <td>León</td>\n",
       "      <td>U Urbana</td>\n",
       "      <td>-101.574590</td>\n",
       "      <td>21.098651</td>\n",
       "      <td>4.0</td>\n",
       "      <td>INICIAL ESCOLARIZADO</td>\n",
       "      <td>CENDI Estatal</td>\n",
       "    </tr>\n",
       "    <tr>\n",
       "      <th>2</th>\n",
       "      <td>CENTRO DE DESARROLLO INFANTIL</td>\n",
       "      <td>Matutino</td>\n",
       "      <td>1.0</td>\n",
       "      <td>Apaseo el Alto</td>\n",
       "      <td>U Urbana</td>\n",
       "      <td>-100.620190</td>\n",
       "      <td>20.459970</td>\n",
       "      <td>5.0</td>\n",
       "      <td>INICIAL ESCOLARIZADO</td>\n",
       "      <td>CENDI Estatal</td>\n",
       "    </tr>\n",
       "    <tr>\n",
       "      <th>3</th>\n",
       "      <td>CENTRO DE DESARROLLO INFANTIL MARIA MONTESSORI</td>\n",
       "      <td>Matutino</td>\n",
       "      <td>1.0</td>\n",
       "      <td>Apaseo el Grande</td>\n",
       "      <td>U Urbana</td>\n",
       "      <td>-100.688310</td>\n",
       "      <td>20.545310</td>\n",
       "      <td>3.0</td>\n",
       "      <td>INICIAL ESCOLARIZADO</td>\n",
       "      <td>CENDI Estatal</td>\n",
       "    </tr>\n",
       "    <tr>\n",
       "      <th>4</th>\n",
       "      <td>CENTRO DE DESARROLLO INFANTIL DIF</td>\n",
       "      <td>Matutino</td>\n",
       "      <td>888.0</td>\n",
       "      <td>Acámbaro</td>\n",
       "      <td>U Urbana</td>\n",
       "      <td>-100.727904</td>\n",
       "      <td>20.022944</td>\n",
       "      <td>2.0</td>\n",
       "      <td>INICIAL ESCOLARIZADO</td>\n",
       "      <td>CENDI Estatal</td>\n",
       "    </tr>\n",
       "  </tbody>\n",
       "</table>\n",
       "</div>"
      ],
      "text/plain": [
       "                                        Nombre CT Descripción Turno  \\\n",
       "0  CENTRO DE DESARROLLO INFANTIL GABRIELA MISTRAL          Matutino   \n",
       "1                 MARTHA CATALINA GARCIA OLIVARES          Matutino   \n",
       "2                   CENTRO DE DESARROLLO INFANTIL          Matutino   \n",
       "3  CENTRO DE DESARROLLO INFANTIL MARIA MONTESSORI          Matutino   \n",
       "4               CENTRO DE DESARROLLO INFANTIL DIF          Matutino   \n",
       "\n",
       "   Zona Escolar Descripción Mpio. Descripción Cat. Pob.    Longitud  \\\n",
       "0         888.0        Guanajuato              U Urbana -101.258428   \n",
       "1         888.0              León              U Urbana -101.574590   \n",
       "2           1.0    Apaseo el Alto              U Urbana -100.620190   \n",
       "3           1.0  Apaseo el Grande              U Urbana -100.688310   \n",
       "4         888.0          Acámbaro              U Urbana -100.727904   \n",
       "\n",
       "     Latitud  Docentes                 Nivel      Modalidad  \n",
       "0  21.011431       5.0  INICIAL ESCOLARIZADO  CENDI Estatal  \n",
       "1  21.098651       4.0  INICIAL ESCOLARIZADO  CENDI Estatal  \n",
       "2  20.459970       5.0  INICIAL ESCOLARIZADO  CENDI Estatal  \n",
       "3  20.545310       3.0  INICIAL ESCOLARIZADO  CENDI Estatal  \n",
       "4  20.022944       2.0  INICIAL ESCOLARIZADO  CENDI Estatal  "
      ]
     },
     "execution_count": 9,
     "metadata": {},
     "output_type": "execute_result"
    }
   ],
   "source": [
    "df.head()"
   ]
  },
  {
   "cell_type": "code",
   "execution_count": 10,
   "id": "ebe9eab9",
   "metadata": {},
   "outputs": [],
   "source": [
    "df.rename(columns={\"Nombre CT\": \"nombre\",\n",
    "                   \"Descripción Turno\": \"turno\",\n",
    "                   \"Zona Escolar\": \"zona_escolar\",\n",
    "                   \"Descripción Mpio.\": \"municipio\",\n",
    "                   \"Descripción Cat. Pob.\": \"área\",\n",
    "                   \"Longitud\": \"longitud\",\n",
    "                   \"Latitud\": \"latitud\",\n",
    "                   \"Docentes\": \"docentes\",\n",
    "                   \"Nivel\": \"nivel\",\n",
    "                   \"Modalidad\": \"modalidad\"}, inplace=True)"
   ]
  },
  {
   "cell_type": "code",
   "execution_count": 11,
   "id": "0fd9bd30",
   "metadata": {},
   "outputs": [
    {
     "data": {
      "text/html": [
       "<div>\n",
       "<style scoped>\n",
       "    .dataframe tbody tr th:only-of-type {\n",
       "        vertical-align: middle;\n",
       "    }\n",
       "\n",
       "    .dataframe tbody tr th {\n",
       "        vertical-align: top;\n",
       "    }\n",
       "\n",
       "    .dataframe thead th {\n",
       "        text-align: right;\n",
       "    }\n",
       "</style>\n",
       "<table border=\"1\" class=\"dataframe\">\n",
       "  <thead>\n",
       "    <tr style=\"text-align: right;\">\n",
       "      <th></th>\n",
       "      <th>nombre</th>\n",
       "      <th>turno</th>\n",
       "      <th>zona_escolar</th>\n",
       "      <th>municipio</th>\n",
       "      <th>área</th>\n",
       "      <th>longitud</th>\n",
       "      <th>latitud</th>\n",
       "      <th>docentes</th>\n",
       "      <th>nivel</th>\n",
       "      <th>modalidad</th>\n",
       "    </tr>\n",
       "  </thead>\n",
       "  <tbody>\n",
       "    <tr>\n",
       "      <th>0</th>\n",
       "      <td>CENTRO DE DESARROLLO INFANTIL GABRIELA MISTRAL</td>\n",
       "      <td>Matutino</td>\n",
       "      <td>888.0</td>\n",
       "      <td>Guanajuato</td>\n",
       "      <td>U Urbana</td>\n",
       "      <td>-101.258428</td>\n",
       "      <td>21.011431</td>\n",
       "      <td>5.0</td>\n",
       "      <td>INICIAL ESCOLARIZADO</td>\n",
       "      <td>CENDI Estatal</td>\n",
       "    </tr>\n",
       "    <tr>\n",
       "      <th>1</th>\n",
       "      <td>MARTHA CATALINA GARCIA OLIVARES</td>\n",
       "      <td>Matutino</td>\n",
       "      <td>888.0</td>\n",
       "      <td>León</td>\n",
       "      <td>U Urbana</td>\n",
       "      <td>-101.574590</td>\n",
       "      <td>21.098651</td>\n",
       "      <td>4.0</td>\n",
       "      <td>INICIAL ESCOLARIZADO</td>\n",
       "      <td>CENDI Estatal</td>\n",
       "    </tr>\n",
       "    <tr>\n",
       "      <th>2</th>\n",
       "      <td>CENTRO DE DESARROLLO INFANTIL</td>\n",
       "      <td>Matutino</td>\n",
       "      <td>1.0</td>\n",
       "      <td>Apaseo el Alto</td>\n",
       "      <td>U Urbana</td>\n",
       "      <td>-100.620190</td>\n",
       "      <td>20.459970</td>\n",
       "      <td>5.0</td>\n",
       "      <td>INICIAL ESCOLARIZADO</td>\n",
       "      <td>CENDI Estatal</td>\n",
       "    </tr>\n",
       "    <tr>\n",
       "      <th>3</th>\n",
       "      <td>CENTRO DE DESARROLLO INFANTIL MARIA MONTESSORI</td>\n",
       "      <td>Matutino</td>\n",
       "      <td>1.0</td>\n",
       "      <td>Apaseo el Grande</td>\n",
       "      <td>U Urbana</td>\n",
       "      <td>-100.688310</td>\n",
       "      <td>20.545310</td>\n",
       "      <td>3.0</td>\n",
       "      <td>INICIAL ESCOLARIZADO</td>\n",
       "      <td>CENDI Estatal</td>\n",
       "    </tr>\n",
       "    <tr>\n",
       "      <th>4</th>\n",
       "      <td>CENTRO DE DESARROLLO INFANTIL DIF</td>\n",
       "      <td>Matutino</td>\n",
       "      <td>888.0</td>\n",
       "      <td>Acámbaro</td>\n",
       "      <td>U Urbana</td>\n",
       "      <td>-100.727904</td>\n",
       "      <td>20.022944</td>\n",
       "      <td>2.0</td>\n",
       "      <td>INICIAL ESCOLARIZADO</td>\n",
       "      <td>CENDI Estatal</td>\n",
       "    </tr>\n",
       "  </tbody>\n",
       "</table>\n",
       "</div>"
      ],
      "text/plain": [
       "                                           nombre     turno  zona_escolar  \\\n",
       "0  CENTRO DE DESARROLLO INFANTIL GABRIELA MISTRAL  Matutino         888.0   \n",
       "1                 MARTHA CATALINA GARCIA OLIVARES  Matutino         888.0   \n",
       "2                   CENTRO DE DESARROLLO INFANTIL  Matutino           1.0   \n",
       "3  CENTRO DE DESARROLLO INFANTIL MARIA MONTESSORI  Matutino           1.0   \n",
       "4               CENTRO DE DESARROLLO INFANTIL DIF  Matutino         888.0   \n",
       "\n",
       "          municipio      área    longitud    latitud  docentes  \\\n",
       "0        Guanajuato  U Urbana -101.258428  21.011431       5.0   \n",
       "1              León  U Urbana -101.574590  21.098651       4.0   \n",
       "2    Apaseo el Alto  U Urbana -100.620190  20.459970       5.0   \n",
       "3  Apaseo el Grande  U Urbana -100.688310  20.545310       3.0   \n",
       "4          Acámbaro  U Urbana -100.727904  20.022944       2.0   \n",
       "\n",
       "                  nivel      modalidad  \n",
       "0  INICIAL ESCOLARIZADO  CENDI Estatal  \n",
       "1  INICIAL ESCOLARIZADO  CENDI Estatal  \n",
       "2  INICIAL ESCOLARIZADO  CENDI Estatal  \n",
       "3  INICIAL ESCOLARIZADO  CENDI Estatal  \n",
       "4  INICIAL ESCOLARIZADO  CENDI Estatal  "
      ]
     },
     "execution_count": 11,
     "metadata": {},
     "output_type": "execute_result"
    }
   ],
   "source": [
    "df.head()"
   ]
  },
  {
   "cell_type": "code",
   "execution_count": 12,
   "id": "c6797660",
   "metadata": {},
   "outputs": [
    {
     "data": {
      "text/plain": [
       "0"
      ]
     },
     "execution_count": 12,
     "metadata": {},
     "output_type": "execute_result"
    }
   ],
   "source": [
    "df[\"nombre\"].isnull().sum()"
   ]
  },
  {
   "cell_type": "code",
   "execution_count": 13,
   "id": "f24d66e2",
   "metadata": {},
   "outputs": [
    {
     "data": {
      "text/plain": [
       "0"
      ]
     },
     "execution_count": 13,
     "metadata": {},
     "output_type": "execute_result"
    }
   ],
   "source": [
    "df[\"turno\"].isnull().sum()"
   ]
  },
  {
   "cell_type": "code",
   "execution_count": 14,
   "id": "9195f2e7",
   "metadata": {},
   "outputs": [
    {
     "data": {
      "text/plain": [
       "769"
      ]
     },
     "execution_count": 14,
     "metadata": {},
     "output_type": "execute_result"
    }
   ],
   "source": [
    "df[\"zona_escolar\"].isnull().sum()"
   ]
  },
  {
   "cell_type": "code",
   "execution_count": 15,
   "id": "dbc9d69d",
   "metadata": {},
   "outputs": [
    {
     "data": {
      "text/plain": [
       "0"
      ]
     },
     "execution_count": 15,
     "metadata": {},
     "output_type": "execute_result"
    }
   ],
   "source": [
    "df[\"municipio\"].isnull().sum()"
   ]
  },
  {
   "cell_type": "code",
   "execution_count": 16,
   "id": "53658a39",
   "metadata": {},
   "outputs": [
    {
     "data": {
      "text/plain": [
       "0"
      ]
     },
     "execution_count": 16,
     "metadata": {},
     "output_type": "execute_result"
    }
   ],
   "source": [
    "df[\"área\"].isnull().sum()"
   ]
  },
  {
   "cell_type": "code",
   "execution_count": 17,
   "id": "5e712806",
   "metadata": {},
   "outputs": [
    {
     "data": {
      "text/plain": [
       "0"
      ]
     },
     "execution_count": 17,
     "metadata": {},
     "output_type": "execute_result"
    }
   ],
   "source": [
    "df[\"longitud\"].isnull().sum()"
   ]
  },
  {
   "cell_type": "code",
   "execution_count": 18,
   "id": "e5332591",
   "metadata": {},
   "outputs": [
    {
     "data": {
      "text/plain": [
       "0"
      ]
     },
     "execution_count": 18,
     "metadata": {},
     "output_type": "execute_result"
    }
   ],
   "source": [
    "df[\"latitud\"].isnull().sum()"
   ]
  },
  {
   "cell_type": "code",
   "execution_count": 19,
   "id": "de1bb5bd",
   "metadata": {},
   "outputs": [
    {
     "data": {
      "text/plain": [
       "1548"
      ]
     },
     "execution_count": 19,
     "metadata": {},
     "output_type": "execute_result"
    }
   ],
   "source": [
    "df[\"docentes\"].isnull().sum()"
   ]
  },
  {
   "cell_type": "code",
   "execution_count": 20,
   "id": "d45919c1",
   "metadata": {},
   "outputs": [
    {
     "data": {
      "text/plain": [
       "0"
      ]
     },
     "execution_count": 20,
     "metadata": {},
     "output_type": "execute_result"
    }
   ],
   "source": [
    "df[\"nivel\"].isnull().sum()"
   ]
  },
  {
   "cell_type": "code",
   "execution_count": 21,
   "id": "eb255f93",
   "metadata": {},
   "outputs": [
    {
     "data": {
      "text/plain": [
       "0"
      ]
     },
     "execution_count": 21,
     "metadata": {},
     "output_type": "execute_result"
    }
   ],
   "source": [
    "df[\"modalidad\"].isnull().sum()"
   ]
  },
  {
   "cell_type": "code",
   "execution_count": 22,
   "id": "65336e42",
   "metadata": {},
   "outputs": [],
   "source": [
    "df[\"zona_escolar\"] = df[\"zona_escolar\"].astype('Int64')"
   ]
  },
  {
   "cell_type": "code",
   "execution_count": 23,
   "id": "a8349147",
   "metadata": {},
   "outputs": [],
   "source": [
    "df[\"docentes\"] = df[\"docentes\"].astype('Int64')"
   ]
  },
  {
   "cell_type": "code",
   "execution_count": 24,
   "id": "27e62aab",
   "metadata": {},
   "outputs": [
    {
     "data": {
      "text/plain": [
       "Int64Dtype()"
      ]
     },
     "execution_count": 24,
     "metadata": {},
     "output_type": "execute_result"
    }
   ],
   "source": [
    "df[\"zona_escolar\"].dtype"
   ]
  },
  {
   "cell_type": "code",
   "execution_count": 25,
   "id": "97f05bb5",
   "metadata": {},
   "outputs": [
    {
     "data": {
      "text/plain": [
       "Int64Dtype()"
      ]
     },
     "execution_count": 25,
     "metadata": {},
     "output_type": "execute_result"
    }
   ],
   "source": [
    "df[\"docentes\"].dtype"
   ]
  },
  {
   "cell_type": "code",
   "execution_count": 26,
   "id": "8e5af8a9",
   "metadata": {},
   "outputs": [
    {
     "data": {
      "text/plain": [
       "array(['U Urbana', 'R Rural'], dtype=object)"
      ]
     },
     "execution_count": 26,
     "metadata": {},
     "output_type": "execute_result"
    }
   ],
   "source": [
    "df['área'].unique()"
   ]
  },
  {
   "cell_type": "code",
   "execution_count": 27,
   "id": "4d0c7fd8",
   "metadata": {},
   "outputs": [],
   "source": [
    "df['área'] = df['área'].str.replace('U Urbana', 'Urbana')"
   ]
  },
  {
   "cell_type": "code",
   "execution_count": 28,
   "id": "56a3a87f",
   "metadata": {},
   "outputs": [],
   "source": [
    "df['área'] = df['área'].str.replace('R Rural', 'Rural')"
   ]
  },
  {
   "cell_type": "code",
   "execution_count": 29,
   "id": "3b22cfac",
   "metadata": {},
   "outputs": [
    {
     "data": {
      "text/plain": [
       "array(['Urbana', 'Rural'], dtype=object)"
      ]
     },
     "execution_count": 29,
     "metadata": {},
     "output_type": "execute_result"
    }
   ],
   "source": [
    "df['área'].unique()"
   ]
  },
  {
   "cell_type": "code",
   "execution_count": 30,
   "id": "0059ec1d",
   "metadata": {},
   "outputs": [],
   "source": [
    "import sqlite3"
   ]
  },
  {
   "cell_type": "code",
   "execution_count": 36,
   "id": "739088b2",
   "metadata": {},
   "outputs": [],
   "source": [
    "database = \"guanajuato.db\"\n",
    "conn = sqlite3.connect(database)"
   ]
  },
  {
   "cell_type": "code",
   "execution_count": 37,
   "id": "a1520c10",
   "metadata": {},
   "outputs": [],
   "source": [
    "cursor = conn.cursor()"
   ]
  },
  {
   "cell_type": "code",
   "execution_count": 38,
   "id": "4e8665ab",
   "metadata": {},
   "outputs": [
    {
     "data": {
      "text/plain": [
       "<sqlite3.Cursor at 0x7f30ec7bace0>"
      ]
     },
     "execution_count": 38,
     "metadata": {},
     "output_type": "execute_result"
    }
   ],
   "source": [
    "cursor.execute('''CREATE TABLE centro_de_trabajo_table (\n",
    "                    centro_de_trabajo_id INTEGER PRIMARY KEY NOT NULL,\n",
    "                    nombre TEXT,\n",
    "                    turno TEXT,\n",
    "                    zona_escolar INTEGER,\n",
    "                    municipio TEXT,\n",
    "                    área TEXT,\n",
    "                    longitud REAL,\n",
    "                    latitud REAL,\n",
    "                    docentes INTEGER,\n",
    "                    nivel TEXT,\n",
    "                    modalidad TEXT\n",
    "                    )''')"
   ]
  },
  {
   "cell_type": "code",
   "execution_count": 39,
   "id": "bf3c5c05",
   "metadata": {},
   "outputs": [],
   "source": [
    "df.to_sql(name='centro_de_trabajo_table', con=conn, if_exists='append', index=False)\n",
    "conn.close()"
   ]
  }
 ],
 "metadata": {
  "kernelspec": {
   "display_name": "Python 3 (ipykernel)",
   "language": "python",
   "name": "python3"
  },
  "language_info": {
   "codemirror_mode": {
    "name": "ipython",
    "version": 3
   },
   "file_extension": ".py",
   "mimetype": "text/x-python",
   "name": "python",
   "nbconvert_exporter": "python",
   "pygments_lexer": "ipython3",
   "version": "3.9.13"
  }
 },
 "nbformat": 4,
 "nbformat_minor": 5
}
